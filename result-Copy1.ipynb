{
 "cells": [
  {
   "cell_type": "code",
   "execution_count": null,
   "id": "c58876d9",
   "metadata": {},
   "outputs": [],
   "source": [
    "import pathlib\n",
    "import matplotlib\n",
    "import matplotlib.pyplot as plt\n",
    "import pandas as pd\n",
    "import numpy as np\n",
    "\n",
    "from Domain.Nutzenergieanalyse import NEAData\n",
    "\n",
    "import Bevoelkerung\n",
    "import Domain.General\n",
    "import Energiebilanz\n",
    "import General\n",
    "import Nutzenergieanalyse\n",
    "import Hauptwohnsitze\n",
    "import Processor\n",
    "import Utils\n",
    "\n",
    "\n",
    "def create_general_data(g_laender_factory: Domain.General.GLaenderFactory):\n",
    "    g_sektoren_factory = General.GSektorenDefaultFactory()\n",
    "    g_bereiche_factory = General.GBereicheSimpleFactory()\n",
    "    g_energietraeger_klassen_factory = General.GEnergietraegerKlassenSimpleFactory()\n",
    "    g_energietraeger_factory = General.GEnergietraegerSimpleFactory()\n",
    "    g_data_factory = General.GDataFactory(g_laender_factory, g_sektoren_factory, g_bereiche_factory,\n",
    "                                          g_energietraeger_klassen_factory, g_energietraeger_factory)\n",
    "    g_data = g_data_factory.create()\n",
    "    return g_data\n",
    "\n",
    "def create_nea_data(g_data: Domain.General.GData):\n",
    "    nea_data_pickle_factory = Nutzenergieanalyse.NEADataPickleFactory(pathlib.Path('Data/Serialization'))\n",
    "    nea_data_factory = Nutzenergieanalyse.NEADataETKlassenFactory(nea_data_pickle_factory)\n",
    "    nea_data = nea_data_factory.create(g_data).data\n",
    "    return {land.name: {sektor.name: {bereich.name: nea_data[land][sektor][bereich] for bereich in nea_data[land][sektor].keys()} for sektor in nea_data[land].keys()} for land in nea_data.keys()}\n",
    "\n",
    "def create_eb_data(g_data: Domain.General.GData):\n",
    "    eb_data_pickle_factory = Energiebilanz.EBDataPickleFactory(pathlib.Path('Data/Serialization'))\n",
    "    eb_data_factory = Energiebilanz.EBDataETKlassenFactory(eb_data_pickle_factory)\n",
    "    eb_data = eb_data_factory.create(g_data).data\n",
    "    return {land.name: {sektor.name: eb_data[land][sektor] for sektor in eb_data[land].keys()} for land in eb_data.keys()}\n",
    "\n",
    "def create_b_data(g_data: Domain.General.GData):\n",
    "    b_data_factory = Bevoelkerung.BDataPickleFactory(pathlib.Path('Data/Serialization'), list(general_data.laender.values()))\n",
    "    b_data = b_data_factory.create(list(general_data.laender.values())).data\n",
    "    return {land.name: b_data[land] for land in b_data.keys()}\n",
    "\n",
    "def create_hws_data(g_data: Domain.General.GData):\n",
    "    hws_data_factory = Hauptwohnsitze.HWSDataPickleFactory(pathlib.Path('Data/Serialization'), list(general_data.laender.values()))\n",
    "    hws_data = hws_data_factory.create(list(general_data.laender.values())).data\n",
    "    return {land.name: hws_data[land] for land in hws_data.keys()}\n",
    "    \n",
    "laender_factory = General.GBundeslaenderFactory()\n",
    "general_data = create_general_data(laender_factory)\n",
    "\n",
    "nea_data = create_nea_data(general_data)\n",
    "eb_data = create_eb_data(general_data)\n",
    "b_data = create_b_data(general_data)\n",
    "#hws_data = create_hws_data(general_data)\n"
   ]
  },
  {
   "cell_type": "code",
   "execution_count": null,
   "id": "c51d3fd3",
   "metadata": {},
   "outputs": [],
   "source": [
    "def create_nea_data_sektor(land: str, sektor: str):\n",
    "    return sum([nea_data[land][sektor][bereich.name] for bereich in general_data.bereiche.values()])\n",
    "\n",
    "def create_nea_data_land(land: str):\n",
    "    return sum([create_nea_data_sektor(land, sektor.name) for sektor in general_data.sektoren.values()])\n",
    "\n",
    "def create_nea_data_bereich_oesterreich(sektor: str, bereich: str):\n",
    "    return sum([nea_data[land.name][sektor][bereich] for land in general_data.laender.values()])\n",
    "\n",
    "def create_nea_data_sektor_oesterreich(sektor: str):\n",
    "    return sum([create_nea_data_sektor(land.name, sektor) for land in general_data.laender.values()])\n",
    "\n",
    "def create_nea_data_oesterreich():\n",
    "    return sum([create_nea_data_land(land.name) for land in general_data.laender.values()])\n"
   ]
  },
  {
   "cell_type": "code",
   "execution_count": null,
   "id": "702245f4",
   "metadata": {},
   "outputs": [],
   "source": [
    "def clean_negative_values(data):\n",
    "    df = data.copy()\n",
    "    df[df < 0] = 0\n",
    "    return df\n",
    "\n",
    "def calc_relative(df: pd.DataFrame):\n",
    "    return (df.transpose() / df.sum(axis=1)).transpose()\n"
   ]
  },
  {
   "cell_type": "code",
   "execution_count": null,
   "id": "68dd2c0e",
   "metadata": {},
   "outputs": [],
   "source": [
    "extrapolation = Utils.DFSARIMAXExtrapolation()\n",
    "extension = Utils.DFNanExtension()\n",
    "extrapolation_extension = Utils.DFExtrapolationExtension(extrapolation)\n"
   ]
  },
  {
   "cell_type": "code",
   "execution_count": null,
   "id": "c7cfe302",
   "metadata": {},
   "outputs": [],
   "source": [
    "def extend_nea_data(land: str, sektor: str, bereich: str):\n",
    "    s = create_nea_data_sektor(land, sektor)\n",
    "    b = nea_data[land][sektor][bereich]\n",
    "    rel = (b / s).fillna(0)\n",
    "    eb = eb_data[land][sektor]\n",
    "    rel_ex = extrapolation_extension.run(rel, pd.PeriodIndex(pd.period_range(start='1993', end='2040', freq='A'), name=rel.index.name))\n",
    "    return rel_ex * eb\n",
    "\n",
    "def extend_all_nea_data():\n",
    "    return {land: {sektor: {bereich: extend_nea_data(land, sektor, bereich) for bereich in nea_data[land][sektor].keys()} for sektor in nea_data[land].keys()} for land in nea_data.keys()}\n",
    "\n",
    "#nea_data_ex = extend_all_nea_data()\n"
   ]
  },
  {
   "cell_type": "code",
   "execution_count": null,
   "id": "27c8ab64",
   "metadata": {},
   "outputs": [],
   "source": [
    "extend_nea_data('wien', 'Wohngebäude', 'Heizen')"
   ]
  },
  {
   "cell_type": "code",
   "execution_count": null,
   "id": "f5804282",
   "metadata": {},
   "outputs": [],
   "source": [
    "nea_data_ex['wien']['Wohngebäude']['Heizen']"
   ]
  },
  {
   "cell_type": "code",
   "execution_count": null,
   "id": "f9cf01e0",
   "metadata": {},
   "outputs": [],
   "source": [
    "def run_scenario(df: pd.DataFrame, wanted: pd.Series):\n",
    "    et = wanted.name\n",
    "    \n",
    "    df_relative = calc_relative(df)\n",
    "    df_relative_without_et = df_relative.drop(et, axis=1)\n",
    "    df_relative_without_et_relative = calc_relative(df_relative_without_et)\n",
    "    \n",
    "    to_sub = df[et] - wanted\n",
    "    to_add = (df_relative_without_et_relative.transpose() * to_sub).transpose()\n",
    "    to_add[et] = to_sub * -1\n",
    "\n",
    "    result = df + to_add\n",
    "    result_reordered = result.reindex(columns=df.columns)\n",
    "    return result_reordered\n",
    "    \n",
    "def run_scenarios(df: pd.DataFrame, wanted: pd.DataFrame):\n",
    "    global_result = df.copy()\n",
    "    for et in wanted.columns:\n",
    "        local_result = run_scenario(global_result, wanted[et])\n",
    "        global_result = local_result.drop(et, axis=1)\n",
    "    result = pd.concat([global_result, wanted], axis=1)\n",
    "    result_reordered = result.reindex(columns=df.columns)\n",
    "    return result_reordered\n",
    "    "
   ]
  },
  {
   "cell_type": "code",
   "execution_count": null,
   "id": "7eb13f2e",
   "metadata": {},
   "outputs": [],
   "source": [
    "def create_linear_scenario(series: pd.Series, start: str, end: str, end_value):\n",
    "    et = series.name\n",
    "    index = series[start:end][1:].index\n",
    "    start_value = series[start]\n",
    "    decrement = start_value / (len(index))\n",
    "    start_series = series[:start]\n",
    "    wanted_series = pd.Series([start_value - decrement * (i + 1) for i in range(len(index))], index=index)\n",
    "    end_series = series[end:][1:]\n",
    "    result = pd.concat([start_series, wanted_series, end_series])\n",
    "    result.name = series.name\n",
    "    return result\n"
   ]
  },
  {
   "cell_type": "markdown",
   "id": "6352e40b",
   "metadata": {},
   "source": [
    "### Generate result\n",
    "\n",
    "per person\n",
    "\n",
    "use moving average\n",
    "\n",
    "interpolate population since some values are missing"
   ]
  },
  {
   "cell_type": "code",
   "execution_count": null,
   "id": "3d457365",
   "metadata": {},
   "outputs": [],
   "source": [
    "def create_data_bereich(land: str, sektor: str, bereich: str):\n",
    "    nea = nea_data_ex[land][sektor][bereich]\n",
    "    bevoelkerung = b_data[land]\n",
    "    bevoelkerung = pd.Series(bevoelkerung, pd.period_range('1988', '2040', freq='A')).interpolate()\n",
    "    nea_pp = (nea.transpose() / bevoelkerung['1988':'2020']).transpose().rolling(3).mean()['1990':]\n",
    "    nea_pp_ex = extrapolation_extension.run(nea_pp, pd.PeriodIndex(pd.period_range(start=nea_pp.index[0], end='2040', freq='A'), name=nea_pp.index.name))\n",
    "    return (clean_negative_values(nea_pp_ex.transpose()) * bevoelkerung['1990':]).transpose()\n",
    "\n",
    "def create_data_sektor(land: str, sektor: str):\n",
    "    return sum([create_data_bereich(land, sektor, bereich.name) for bereich in general_data.bereiche.values()])\n",
    "\n",
    "def create_data_land(land: str):\n",
    "    return sum([create_data_sektor(land, sektor.name) for sektor in general_data.sektoren.values()])\n",
    "\n",
    "def create_data_oesterreich():\n",
    "    return sum([create_data_land(land.name) for land in general_data.laender.values()])\n"
   ]
  },
  {
   "cell_type": "markdown",
   "id": "563203a1",
   "metadata": {},
   "source": [
    "### Test Szenario:\n",
    "\n",
    "2040 -> 0 gas\n",
    "\n",
    "2035 -> 0 oel\n",
    "\n",
    "2030 -> 0 kohle\n",
    "\n",
    "na: scheitholz bleibt gleich\n",
    "\n",
    "na: fernwaerme, strom, umweltwaereme -> 1,2,3% steigung"
   ]
  },
  {
   "cell_type": "code",
   "execution_count": null,
   "id": "ca718317",
   "metadata": {},
   "outputs": [],
   "source": [
    "def create_test_scenario(df):\n",
    "    test_scenario_gas = create_linear_scenario(df['Fossile gasförmig'], '2020', '2040', 0)\n",
    "\n",
    "    test_scenario_oel = create_linear_scenario(df['Fossile flüssig'], '2020', '2035', 0)\n",
    "    test_scenario_oel = create_linear_scenario(test_scenario_oel, '2035', '2040', 0)\n",
    "\n",
    "    test_scenario_kohle = create_linear_scenario(df['Fossile fest'], '2020', '2030', 0)\n",
    "    test_scenario_kohle = create_linear_scenario(test_scenario_kohle, '2030', '2040', 0)\n",
    "\n",
    "    return pd.concat([test_scenario_gas, test_scenario_oel, test_scenario_kohle], axis=1)"
   ]
  },
  {
   "cell_type": "code",
   "execution_count": null,
   "id": "0f01c45c",
   "metadata": {},
   "outputs": [],
   "source": [
    "def since_epoch(period):\n",
    "        return (period - pd.Period('1970-01-01', freq=period.freq)).n\n",
    "\n",
    "def plot_result(data, scenario):\n",
    "    matplotlib.rcParams[\"figure.figsize\"] = (20,10)\n",
    "    matplotlib.rcParams['axes.labelsize'] = 14\n",
    "    matplotlib.rcParams['xtick.labelsize'] = 12\n",
    "    matplotlib.rcParams['ytick.labelsize'] = 12\n",
    "    matplotlib.rcParams['text.color'] = 'k'\n",
    "\n",
    "    fig, (ax1, ax2) = plt.subplots(nrows=2, ncols=1, sharex=True)\n",
    "\n",
    "    data.plot(ax=ax1)\n",
    "    ax1.set_title('Data')\n",
    "    ax1.set_xlabel('Year')\n",
    "    ax1.set_ylabel('TJ')\n",
    "    ax1.axvspan(since_epoch(data['2020':].index[0]), since_epoch(data.index[-1:][0]), color='#808080', alpha=0.2)\n",
    "\n",
    "    scenario.plot(ax=ax2)\n",
    "    ax2.set_title('Szenario')\n",
    "    ax2.set_xlabel('Year')\n",
    "    ax2.set_ylabel('TJ')\n",
    "    ax2.axvspan(since_epoch(scenario['2020':].index[0]), since_epoch(scenario.index[-1:][0]), color='#808080', alpha=0.2)\n",
    "\n",
    "    fig.autofmt_xdate()\n",
    "    plt.tight_layout()\n",
    "\n",
    "    plt.show()"
   ]
  },
  {
   "cell_type": "code",
   "execution_count": null,
   "id": "da298a6b",
   "metadata": {},
   "outputs": [],
   "source": [
    "heizen_ph_wien = create_data_bereich('oberoesterreich', 'Wohngebäude', 'Heizen')\n",
    "\n",
    "test_scenario_heizen_ph_wien = create_test_scenario(heizen_ph_wien)\n",
    "test_scenario_heizen_ph_wien_result = run_scenarios(heizen_ph_wien, test_scenario_heizen_ph_wien)\n",
    "\n",
    "plot_result(heizen_ph_wien, test_scenario_heizen_ph_wien_result)"
   ]
  },
  {
   "cell_type": "code",
   "execution_count": null,
   "id": "5d4686c8",
   "metadata": {},
   "outputs": [],
   "source": [
    "ph_wien = create_data_sektor('wien', 'Wohngebäude')\n",
    "\n",
    "test_scenario_ph_wien = create_test_scenario(ph_wien)\n",
    "test_scenario_ph_wien_result = run_scenarios(ph_wien, test_scenario_ph_wien)\n",
    "\n",
    "plot_result(ph_wien, test_scenario_ph_wien_result)\n"
   ]
  },
  {
   "cell_type": "code",
   "execution_count": null,
   "id": "fa4739ee",
   "metadata": {},
   "outputs": [],
   "source": [
    "wien = create_data_land('wien')\n",
    "\n",
    "test_scenario_wien = create_test_scenario(wien)\n",
    "test_scenario_wien_result = run_scenarios(wien, test_scenario_wien)\n",
    "\n",
    "plot_result(wien, test_scenario_wien_result)\n"
   ]
  },
  {
   "cell_type": "code",
   "execution_count": null,
   "id": "d486bd65",
   "metadata": {},
   "outputs": [],
   "source": [
    "wien.sum(axis=1).plot()"
   ]
  },
  {
   "cell_type": "code",
   "execution_count": null,
   "id": "f89da913",
   "metadata": {},
   "outputs": [],
   "source": [
    "oesterreich = create_data_oesterreich()\n",
    "\n",
    "test_scenario_oesterreich = create_test_scenario(oesterreich)\n",
    "test_scenario_oesterreich_result = run_scenarios(oesterreich, test_scenario_oesterreich)\n",
    "\n",
    "plot_result(oesterreich, test_scenario_oesterreich_result)"
   ]
  },
  {
   "cell_type": "code",
   "execution_count": null,
   "id": "43e535c5",
   "metadata": {},
   "outputs": [],
   "source": [
    "oesterreich.sum(axis=1).plot()"
   ]
  },
  {
   "cell_type": "code",
   "execution_count": null,
   "id": "07770b16",
   "metadata": {},
   "outputs": [],
   "source": [
    "b_data_sum = pd.DataFrame([b_data[land.name] for land in general_data.laender.values()])\n",
    "\n",
    "matplotlib.rcParams[\"figure.figsize\"] = (20,10)\n",
    "matplotlib.rcParams['axes.labelsize'] = 14\n",
    "matplotlib.rcParams['xtick.labelsize'] = 12\n",
    "matplotlib.rcParams['ytick.labelsize'] = 12\n",
    "matplotlib.rcParams['text.color'] = 'k'\n",
    "\n",
    "fig, ax1 = plt.subplots(nrows=1, ncols=1, sharex=True)\n",
    "\n",
    "b_data_sum.transpose().plot(ax=ax1)\n",
    "ax1.set_title('Population')\n",
    "ax1.set_xlabel('Year')\n",
    "ax1.set_ylabel('Millions')\n",
    "\n",
    "fig.autofmt_xdate()\n",
    "plt.tight_layout()\n",
    "\n",
    "plt.show()\n",
    "\n",
    "#b_data_sum.transpose().plot()"
   ]
  },
  {
   "cell_type": "code",
   "execution_count": null,
   "id": "a5be9369",
   "metadata": {},
   "outputs": [],
   "source": [
    "\n",
    "def create_limit_scenario(series: pd.Series, start: str, factor):\n",
    "    et = series.name\n",
    "    \n",
    "    limit_series = series[start:end][1:]\n",
    "    index = limit_series.index\n",
    "    start_value = series[start]\n",
    "    \n",
    "    limit = pd.Series([start_value * factor^(i+1) for i in range(len(index))], index=index)\n",
    "    \n",
    "    \n",
    "    decrement = start_value / (len(index))\n",
    "    start_series = series[:start]\n",
    "    wanted_series = pd.Series([start_value * factor^(i+1) for i in range(len(index))], index=index)\n",
    "    end_series = series[end:][1:]\n",
    "    result = pd.concat([start_series, wanted_series, end_series])\n",
    "    result.name = series.name\n",
    "    return result"
   ]
  }
 ],
 "metadata": {
  "kernelspec": {
   "display_name": "Python 3 (ipykernel)",
   "language": "python",
   "name": "python3"
  },
  "language_info": {
   "codemirror_mode": {
    "name": "ipython",
    "version": 3
   },
   "file_extension": ".py",
   "mimetype": "text/x-python",
   "name": "python",
   "nbconvert_exporter": "python",
   "pygments_lexer": "ipython3",
   "version": "3.11.3"
  }
 },
 "nbformat": 4,
 "nbformat_minor": 5
}
